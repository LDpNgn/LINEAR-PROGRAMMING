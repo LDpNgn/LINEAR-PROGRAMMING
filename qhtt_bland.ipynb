{
 "cells": [
  {
   "cell_type": "markdown",
   "metadata": {},
   "source": [
    "# Loading library"
   ]
  },
  {
   "cell_type": "code",
   "execution_count": 109,
   "metadata": {},
   "outputs": [],
   "source": [
    "import pandas as pd\n",
    "import numpy as np\n",
    "import warnings\n",
    "# Suppress RuntimeWarning: divide by zero encountered in divide\n",
    "warnings.filterwarnings(\"ignore\", category=RuntimeWarning)"
   ]
  },
  {
   "cell_type": "markdown",
   "metadata": {},
   "source": [
    "# Xử lý đầu vào"
   ]
  },
  {
   "cell_type": "markdown",
   "metadata": {},
   "source": [
    "1. Về ràng buộc đẳng thức, bất đẳng thức --> chuyển về dạng chuẩn  \n",
    "- nếu <=: giữ nguyên  \n",
    "- nếu >=: nhân với -1  \n",
    "- nếu =: nhân vế trái với -1  \n",
    "\n",
    "2. Về ràng buộc dấu của biến \n",
    "- x>=0: giữ nguyên\n",
    "- x<=0: thay x=-x, ghi nhớ vị trí biến để kết luận x=-x\n",
    "- x không có ràng buộc: tạo 2 biến +x, -x mới, ghi nhớ vị trí biến để kết luận x = (+x) - (-x)\n",
    "\n",
    "3. Về hướng của hàm mục tiêu  \n",
    "- Nếu optimize_direction là max thì đưa hàm mục tiêu f(x) thành -f(-x)\n",
    "- Nếu optimize_direction là min thì giữ nguyên"
   ]
  },
  {
   "cell_type": "code",
   "execution_count": 123,
   "metadata": {},
   "outputs": [],
   "source": [
    "def processing_input(A,B):\n",
    "    \"\"\" \n",
    "    # goal\n",
    "    - chuyển 2 dataframe lưu ràng buộc đẳng thức/bất đẳng thức và ràng buộc về dấu của biến trong bài toán quy hoạch tuyến tính cho trước thành những ma trận có thể tính toán, xử lý được\n",
    "\n",
    "    # input\n",
    "    - A (dataframe): lưu ràng buộc đẳng thức/bất đẳng thức\n",
    "    - B (dataframe): ràng buộc về dấu của biến \n",
    "\n",
    "    # output\n",
    "    - optimize_direction: hướng của hàm mục tiêu\n",
    "    - norm_arr (np.array): ma trận của bài toán sau khi chuyển về dạng chuẩn (P')\n",
    "    - tab_arr (np.array): ma trận tương ứng với dạng bảng của phương pháp đơn hình của norm_arr\n",
    "    - rsby (np.array): ma trận lưu trữ cách biểu diễn nghiệm của (P) theo (P')\n",
    "    \"\"\"\n",
    "\n",
    "    # 1. Kiểm tra hướng của hàm mục tiêu\n",
    "    A.iloc[0] = A.iloc[0].fillna(0)\n",
    "    optimize_direction = ''\n",
    "    if A.iloc[0,-1] == 'max':\n",
    "        optimize_direction = 'max'\n",
    "    else:\n",
    "        optimize_direction = 'min'\n",
    "    A.iloc[0,-1] = 0\n",
    "    # đưa cột cuối cùng của A về dạng numerical\n",
    "    A[A.shape[1]-1] = pd.to_numeric(A[A.shape[1]-1])\n",
    "    # nếu optimize_direction là max thì đưa hàm mục tiêu f(x) thành -f(-x)\n",
    "    if optimize_direction == 'max':\n",
    "        A.iloc[0,:] = -A.iloc[0,:]\n",
    "\n",
    "    # 2. Xử lý ràng buộc về đẳng thức và bất đẳng thức\n",
    "    # norm_arr là ma trận mới sau khi chuẩn hoá ma trận A. Dùng để làm biến đầu vào trong hàm xoay Bland\n",
    "    A.iloc[0] = A.iloc[0].fillna(0)\n",
    "    norm_arr = A.drop(columns=A.columns[A.shape[1] -1 -1]).to_numpy()\n",
    "    nrow, ncol = norm_arr.shape\n",
    "    for i in range(1,nrow):\n",
    "        if A.iloc[i, -2] == \">=\":\n",
    "            norm_arr[i] = -norm_arr[i]\n",
    "        elif A.iloc[i, -2] == \"=\":\n",
    "            norm_arr[i, :-1] = -norm_arr[i, :-1]\n",
    "\n",
    "    # 3. Xử lý ràng buộc về dấu của biến\n",
    "    # rsby là hàm result by vars: dùng để kết luận biến cũ theo biến mới sau khi chạy xong thuật toán xoay Bland\n",
    "    rsby = np.eye(B.shape[1])\n",
    "    k = 0\n",
    "    for j in range(B.shape[1]):\n",
    "        if B.iloc[0, j] == \"<=\":\n",
    "            norm_arr[:, k] = -norm_arr[:,k]\n",
    "            rsby[:, k] = -rsby[:,k]\n",
    "        elif B.iloc[0, j] == 0:\n",
    "            new_col_norm_A = -norm_arr[:, k]\n",
    "            norm_arr = np.insert(norm_arr, k+1, new_col_norm_A, axis = 1)\n",
    "            new_col_rsby = -rsby[:, k]\n",
    "            rsby = np.insert(rsby, k+1, new_col_rsby, axis = 1)\n",
    "            k = k+1\n",
    "        k = k+1\n",
    "\n",
    "    # 4. đưa norm_arr về dạng bảng của phương pháp đơn hình tab_arr\n",
    "    # Đưa về dạng ma trận để có thể giải bài toán x1|x2|...|xn|w1|w2|...|wn|bi \n",
    "    n_var = norm_arr.shape[1] - 1\n",
    "    n_const = norm_arr.shape[0] -1\n",
    "    arr = np.insert(np.zeros((1, n_const)), 1, np.eye(n_const), axis = 0)\n",
    "    tab_arr = np.hstack((norm_arr[:, :n_var], arr, norm_arr[:, n_var:]))\n",
    "    # cho tab_arr[1:,:-1] = -tab_arr[1:,:-1]\n",
    "    tab_arr[1:,:-1] = -tab_arr[1:,:-1]\n",
    "    \n",
    "    return(norm_arr, tab_arr, rsby, optimize_direction)"
   ]
  },
  {
   "cell_type": "markdown",
   "metadata": {},
   "source": [
    "Lấy ví dụ ở câu 2.5d/63 sách QHTT"
   ]
  },
  {
   "cell_type": "code",
   "execution_count": 124,
   "metadata": {},
   "outputs": [],
   "source": [
    "A = pd.read_csv(\"input_const.csv\", header=None)\n",
    "B = pd.read_csv('input_vars.csv', header=None)"
   ]
  },
  {
   "cell_type": "markdown",
   "metadata": {},
   "source": [
    "- A là ma trận chứa các ràng buộc về đẳng thức và bất đẳng thức  \n",
    "\n",
    "z = min  5x1 - 10x2  \n",
    "-2x1 +   x2  <= 1  \n",
    "x1 - x2 >= -2  \n",
    "3x1 + x2 <= 8\n",
    "-2x1 + 3x2 >= -9  \n",
    "4x1 + 3x2 >= 0\n",
    "\n",
    "5,-10,,min  \n",
    "-2,1,<=,1  \n",
    "1,-1,>=,-2  \n",
    "3,1,<=,8  \n",
    "-2,3,>=,-9  \n",
    "4,3,>=,0  \n",
    "\n",
    "- B là ma trận chứa các ràng buộc về dấu của biến\n",
    "- x1 >= 0\n",
    "- x2 tự do\n",
    "\n",
    ".>=,0\n"
   ]
  },
  {
   "cell_type": "code",
   "execution_count": 125,
   "metadata": {},
   "outputs": [
    {
     "data": {
      "text/html": [
       "<div>\n",
       "<style scoped>\n",
       "    .dataframe tbody tr th:only-of-type {\n",
       "        vertical-align: middle;\n",
       "    }\n",
       "\n",
       "    .dataframe tbody tr th {\n",
       "        vertical-align: top;\n",
       "    }\n",
       "\n",
       "    .dataframe thead th {\n",
       "        text-align: right;\n",
       "    }\n",
       "</style>\n",
       "<table border=\"1\" class=\"dataframe\">\n",
       "  <thead>\n",
       "    <tr style=\"text-align: right;\">\n",
       "      <th></th>\n",
       "      <th>0</th>\n",
       "      <th>1</th>\n",
       "      <th>2</th>\n",
       "      <th>3</th>\n",
       "    </tr>\n",
       "  </thead>\n",
       "  <tbody>\n",
       "    <tr>\n",
       "      <th>0</th>\n",
       "      <td>5</td>\n",
       "      <td>-10</td>\n",
       "      <td>NaN</td>\n",
       "      <td>min</td>\n",
       "    </tr>\n",
       "    <tr>\n",
       "      <th>1</th>\n",
       "      <td>-2</td>\n",
       "      <td>1</td>\n",
       "      <td>&lt;=</td>\n",
       "      <td>1</td>\n",
       "    </tr>\n",
       "    <tr>\n",
       "      <th>2</th>\n",
       "      <td>1</td>\n",
       "      <td>-1</td>\n",
       "      <td>&gt;=</td>\n",
       "      <td>-2</td>\n",
       "    </tr>\n",
       "    <tr>\n",
       "      <th>3</th>\n",
       "      <td>3</td>\n",
       "      <td>1</td>\n",
       "      <td>&lt;=</td>\n",
       "      <td>8</td>\n",
       "    </tr>\n",
       "    <tr>\n",
       "      <th>4</th>\n",
       "      <td>-2</td>\n",
       "      <td>3</td>\n",
       "      <td>&gt;=</td>\n",
       "      <td>-9</td>\n",
       "    </tr>\n",
       "    <tr>\n",
       "      <th>5</th>\n",
       "      <td>4</td>\n",
       "      <td>3</td>\n",
       "      <td>&gt;=</td>\n",
       "      <td>0</td>\n",
       "    </tr>\n",
       "  </tbody>\n",
       "</table>\n",
       "</div>"
      ],
      "text/plain": [
       "   0   1    2    3\n",
       "0  5 -10  NaN  min\n",
       "1 -2   1   <=    1\n",
       "2  1  -1   >=   -2\n",
       "3  3   1   <=    8\n",
       "4 -2   3   >=   -9\n",
       "5  4   3   >=    0"
      ]
     },
     "execution_count": 125,
     "metadata": {},
     "output_type": "execute_result"
    }
   ],
   "source": [
    "A"
   ]
  },
  {
   "cell_type": "code",
   "execution_count": 126,
   "metadata": {},
   "outputs": [
    {
     "data": {
      "text/html": [
       "<div>\n",
       "<style scoped>\n",
       "    .dataframe tbody tr th:only-of-type {\n",
       "        vertical-align: middle;\n",
       "    }\n",
       "\n",
       "    .dataframe tbody tr th {\n",
       "        vertical-align: top;\n",
       "    }\n",
       "\n",
       "    .dataframe thead th {\n",
       "        text-align: right;\n",
       "    }\n",
       "</style>\n",
       "<table border=\"1\" class=\"dataframe\">\n",
       "  <thead>\n",
       "    <tr style=\"text-align: right;\">\n",
       "      <th></th>\n",
       "      <th>0</th>\n",
       "      <th>1</th>\n",
       "    </tr>\n",
       "  </thead>\n",
       "  <tbody>\n",
       "    <tr>\n",
       "      <th>0</th>\n",
       "      <td>&gt;=</td>\n",
       "      <td>0</td>\n",
       "    </tr>\n",
       "  </tbody>\n",
       "</table>\n",
       "</div>"
      ],
      "text/plain": [
       "    0  1\n",
       "0  >=  0"
      ]
     },
     "execution_count": 126,
     "metadata": {},
     "output_type": "execute_result"
    }
   ],
   "source": [
    "B"
   ]
  },
  {
   "cell_type": "code",
   "execution_count": 131,
   "metadata": {},
   "outputs": [],
   "source": [
    "norm_A, tab_arr, rsby, optimize_direction = processing_input(A,B)"
   ]
  },
  {
   "cell_type": "markdown",
   "metadata": {},
   "source": [
    "# Bland Algorithm"
   ]
  },
  {
   "cell_type": "markdown",
   "metadata": {},
   "source": [
    "Áp dụng bland khi hàm mục tiêu có biến âm, bi >= 0"
   ]
  },
  {
   "cell_type": "markdown",
   "metadata": {},
   "source": [
    "Số ràng buộc và số biến ban đầu của bài toán quy hoạch tuyến tính "
   ]
  },
  {
   "cell_type": "code",
   "execution_count": 115,
   "metadata": {},
   "outputs": [],
   "source": [
    "n_const = tab_arr.shape[0] - 1\n",
    "n_var = tab_arr.shape[1] - tab_arr.shape[0] - 1"
   ]
  },
  {
   "cell_type": "markdown",
   "metadata": {},
   "source": [
    "Xoay bland\n"
   ]
  },
  {
   "cell_type": "code",
   "execution_count": 116,
   "metadata": {},
   "outputs": [],
   "source": [
    "def select_input_output_index(arr):\n",
    "    \"\"\"\n",
    "    # goal \n",
    "    - tìm chỉ số dòng i, chỉ số cột j của biến cần xoay trong thuật toán Bland\n",
    "\n",
    "    # input\n",
    "    - arr (np.array): ma trận tương tự dạng bảng của phương pháp đơn hình\n",
    "\n",
    "    # output\n",
    "    - nếu i = None, tức là không có biến vào --> từ vựng tối ưu\n",
    "    - nếu i != None, j = None, tức là có biến vào, không có biến ra --> bài toán không giới nội\n",
    "    - nếu i != None, j != None, trả về chỉ số (i,j) cần tìm\n",
    "    \"\"\"\n",
    "    # Find the index of the first negative element, or None if no negative elements exist.\n",
    "    const_arr = arr[0,:-1]\n",
    "    lst = const_arr[const_arr<0]\n",
    "    ind_in = None\n",
    "    ind_out = None\n",
    "    if len(lst) != 0:\n",
    "        ind_in = np.where(const_arr<0)[0][0]\n",
    "    else:\n",
    "        # Tu vung toi uu\n",
    "        return('TVTU')\n",
    "    \n",
    "    # Find the index of the largest negative number \n",
    "    lst = arr[1:, -1]/[i if i<0 else np.nan for i in arr[1:, ind_in]]\n",
    "    if len(lst[lst<=0]) == 0:\n",
    "        ind_out = None\n",
    "    else:\n",
    "        ind_out = np.where(lst == max(lst[lst<=0]))[0][0] + 1\n",
    "\n",
    "    # Bai toan Khong gioi noi\n",
    "    if ind_in != None and ind_out == None:\n",
    "        return('KGN') \n",
    "    \n",
    "    # Tra ve vi tri cua bien can xoay\n",
    "    return(ind_in, ind_out)\n",
    "    \n",
    "\n",
    "def find_eye_list(arr_col):\n",
    "    \"\"\" \n",
    "    # goal\n",
    "    - Tìm vị trí dòng của biến cơ sở ở từ vựng tối ưu. Dùng để kết luận nghiệm (xét ở trường hợp duy nhất nghiệm)\n",
    "    - Ở từ vựng tối ưu, nếu x_i là biến cơ sở, thì cột x_i - arr_col là mảng chỉ có số 0 và -1. Và có duy nhất một số -1 \n",
    "    \n",
    "    # input\n",
    "    - arr_col: ma trận cột của từ vựng tối ưu\n",
    "\n",
    "    # output\n",
    "    - vị trí dòng của biến cơ sở\n",
    "    \"\"\"\n",
    "    # Finds the index of the unique element equal to -1 in a binary array.\n",
    "    lst = arr_col.tolist()\n",
    "    for element in lst:\n",
    "        if element not in [0,-1]:\n",
    "            return None\n",
    "    if lst.count(-1) == 1:\n",
    "        return lst.index(-1)\n",
    "\n",
    "def bland_rotate(arr, i, j):\n",
    "    \"\"\"\n",
    "    # goal\n",
    "    - sử dụng thuật toán bland để xoay ma trận arr thành một ma trận mới arr_new\n",
    "\n",
    "    # input\n",
    "    - arr: mảng cần xoay\n",
    "    - i: vị trí hàng của biến cần xoay\n",
    "    - j: vị trí cột của biến cần xoay\n",
    "\n",
    "    # output: return về mảng mới vừa được xoay\n",
    "    \"\"\"\n",
    "    nrow, ncol = arr.shape\n",
    "    arr_new = arr.copy()\n",
    "    arr_new[i] = arr_new[i]/(-arr[i,j])\n",
    "    for row in range(nrow):\n",
    "        if row != i:\n",
    "            for col in range(ncol):\n",
    "                if col == j:\n",
    "                    arr_new[row, col] = 0\n",
    "                else:\n",
    "                    arr_new[row, col] = arr[row, j] * arr_new[i, col] + arr[row, col]\n",
    "    \n",
    "    return arr_new\n",
    "\n",
    "def check_type_result(arr_tvtu):\n",
    "    \"\"\" \n",
    "    # goal\n",
    "    - Tìm các trường hợp xảy ra khi kết luận nghiệm\n",
    "\n",
    "    # input\n",
    "    - arr_tvtu (np.array): ma trận từ vựng tối ưu của bài toán\n",
    "\n",
    "    # output\n",
    "    type_result: các trường hợp khi dùng bland\n",
    "    - DDN: duy nhất nghiệm\n",
    "    - KGN: không giới nội\n",
    "    - VSN: vô số nghiệm\n",
    "    - VN: vô nghiệm (thường xảy ra ở từ cuối pha 1 của thuật toán 2 pha)\n",
    "    \"\"\"\n",
    "    tvtu = arr_tvtu[0, :-1]\n",
    "    # lấy được trường hợp không giới nội KGN hoặc duy nhất nghiệm DNN\n",
    "    type_result = select_input_output_index(arr_tvtu)\n",
    "    if type_result == \"TVTU\":\n",
    "        if np.count_nonzero(tvtu) < (arr_tvtu.shape[1] - arr_tvtu.shape[0] - 1):\n",
    "            type_result = \"VSN\"\n",
    "        else:\n",
    "            type_result = \"DNN\"\n",
    "    return type_result\n",
    "\n",
    "def print_result(rsby, optimize_direction, df_result):\n",
    "    \"\"\" \n",
    "    # input\n",
    "    - rsby: ma trận biểu diễn của 1 biến\n",
    "    - optimize_direction: biến lưu hướng tối ưu của hàm mục tiêu (max or min)\n",
    "    - df_result: list lưu các bước giải của bài toán QHTT\n",
    "\n",
    "    # output\n",
    "    - show các bước giải, nếu lựa chọn show\n",
    "    - show kết quả cuối cùng: \n",
    "        + btoan có nghiêm duy nhất: show nghiêm tối ưu, giá trị tối ưu\n",
    "        + btoan vô nghiệm: nếu optimize_direction là max thì giá trị tối ưu là -inf, ngược lại\n",
    "        + btoan không giới nội: nếu optimize_direction là max thì giá trị tối ưu là inf, ngược lại\n",
    "        + btoan vô số nghiệm: cho các biến không cơ sở xuất hiện ở hàm mục tiêu bằng 0, viết biến cơ sở theo điều kiện các biến không cơ sở\n",
    "    \"\"\"\n",
    "\n",
    "    \n",
    "\n"
   ]
  },
  {
   "cell_type": "markdown",
   "metadata": {},
   "source": [
    "Giải bài toán bằng cách dùng thuật toán Bland, và kết luận nghiệm tối ưu, giá trị tối ưu của bài toán"
   ]
  },
  {
   "cell_type": "markdown",
   "metadata": {},
   "source": [
    "PHẦN NÀY CHƯA CODE XONG NHA, MỚI SHOW KẾT QUẢ CHO PHẦN DUY NHẤT NGHIỆM  "
   ]
  },
  {
   "cell_type": "code",
   "execution_count": 130,
   "metadata": {},
   "outputs": [
    {
     "name": "stdout",
     "output_type": "stream",
     "text": [
      "x = [1.5 3.5], z = -27.5\n",
      "\n",
      "Step by step: \n",
      "[[  5. -10.  10.   0.   0.   0.   0.   0.   0.]\n",
      " [  2.  -1.   1.  -1.  -0.  -0.  -0.  -0.   1.]\n",
      " [  1.  -1.   1.  -0.  -1.  -0.  -0.  -0.   2.]\n",
      " [ -3.  -1.   1.  -0.  -0.  -1.  -0.  -0.   8.]\n",
      " [ -2.   3.  -3.  -0.  -0.  -0.  -1.  -0.   9.]\n",
      " [  4.   3.  -3.  -0.  -0.  -0.  -0.  -1.   0.]]\n",
      "\n",
      "[[-15.   0.   0.  10.   0.   0.   0.   0. -10.]\n",
      " [  2.  -1.   1.  -1.  -0.  -0.  -0.  -0.   1.]\n",
      " [ -1.   0.   0.   1.  -1.   0.   0.   0.   1.]\n",
      " [ -5.   0.   0.   1.   0.  -1.   0.   0.   7.]\n",
      " [  4.   0.   0.  -3.  -0.  -0.  -1.  -0.  12.]\n",
      " [ 10.   0.   0.  -3.  -0.  -0.  -0.  -1.   3.]]\n",
      "\n",
      "[[  0.   0.   0.  -5.  15.   0.   0.   0. -25.]\n",
      " [  0.  -1.   1.   1.  -2.   0.   0.   0.   3.]\n",
      " [ -1.   0.   0.   1.  -1.   0.   0.   0.   1.]\n",
      " [  0.   0.   0.  -4.   5.  -1.   0.   0.   2.]\n",
      " [  0.   0.   0.   1.  -4.   0.  -1.   0.  16.]\n",
      " [  0.   0.   0.   7. -10.   0.   0.  -1.  13.]]\n",
      "\n",
      "[[  0.     0.     0.     0.     8.75   1.25   0.     0.   -27.5 ]\n",
      " [  0.    -1.     1.     0.    -0.75  -0.25   0.     0.     3.5 ]\n",
      " [ -1.     0.     0.     0.     0.25  -0.25   0.     0.     1.5 ]\n",
      " [  0.     0.     0.    -1.     1.25  -0.25   0.     0.     0.5 ]\n",
      " [  0.     0.     0.     0.    -2.75  -0.25  -1.     0.    16.5 ]\n",
      " [  0.     0.     0.     0.    -1.25  -1.75   0.    -1.    16.5 ]]\n",
      "\n"
     ]
    }
   ],
   "source": [
    "# tạo danh sách df_result để lưu lại các từ vựng tại mỗi lần xoay\n",
    "df_result = list()\n",
    "nrow, ncol = tab_arr.shape\n",
    "\n",
    "# thêm từ vựng ban đầu vào danh sách\n",
    "cur_arr = tab_arr\n",
    "df_result.append(cur_arr)\n",
    "\n",
    "# type_result: các trường hợp xảy ra khi kết luận nghiệm: \n",
    "# DDN: duy nhất nghiệm, KGN: không giới nội, VN: vô nghiệm, VSN: vô số nghiệm\n",
    "\n",
    "type_result = None\n",
    "# result_x_P = None\n",
    "# z = None\n",
    "\n",
    "# Xoay bland cho đến khi tìm được từ vựng tối ưu\n",
    "in_out_ind = select_input_output_index(cur_arr)\n",
    "while in_out_ind != 'TVTU':\n",
    "    if in_out_ind != \"KGN\":\n",
    "        j, i = in_out_ind\n",
    "        new_arr = bland_rotate(cur_arr, i, j)\n",
    "        df_result.append(new_arr)\n",
    "    else:\n",
    "        type_result = \"KGN\"\n",
    "        break\n",
    "    cur_arr = new_arr\n",
    "    in_out_ind = select_input_output_index(cur_arr)\n",
    "\n",
    "# print result\n",
    "type_result = check_type_result(df_result[-1])\n",
    "\n",
    "# tạo mảng lưu giá trị nghiệm tối ưu của (P)\n",
    "result_x_P = None\n",
    "# \n",
    "z = None\n",
    "\n",
    "# 1. DNN\n",
    "if type_result == \"DNN\":\n",
    "    arr_last = df_result[-1]\n",
    "    result = np.zeros(arr_last.shape[1])\n",
    "    result[-1] = arr_last[0, -1]\n",
    "    for col in range(ncol-1):\n",
    "        ind = find_eye_list(arr_last[:,col])\n",
    "        if ind != None:\n",
    "            result[col] = arr_last[ind, -1]\n",
    "        else:\n",
    "            result[col] = 0\n",
    "    \n",
    "    # result_x_P_hat là ma trận chứa nghiệm của các biến x1, ..., xn của (P')\n",
    "    result_x_P_hat = result[:(len(result) - n_const - 1)]\n",
    "    # result_x_P_hat là ma trận chứa nghiệm của các biến x1, ..., xn của (P)\n",
    "    result_x_P = rsby@result_x_P_hat\n",
    "    z = None\n",
    "    if optimize_direction == 'min':\n",
    "        z = result[-1]\n",
    "    else:\n",
    "        z = -result[-1]\n",
    "\n",
    "    #\n",
    "    print(f\"x = {result_x_P}, z = {z}\")\n",
    "    #\n",
    "    \n",
    "\n",
    "# 2. KGN\n",
    "elif type_result == \"KGN\":\n",
    "    result_x_P = \"Bai toan khong gioi noi\"\n",
    "    if optimize_direction == 'min':\n",
    "        z = -np.inf\n",
    "    else:\n",
    "        z = np.inf\n",
    "# # 3. VSN\n",
    "# elif type_result == \"VSN\":\n",
    "\n",
    "# print(f\"x = {result_x_P}, z = {z}\")\n",
    "print(f\"\\nStep by step: \")\n",
    "for result in df_result:\n",
    "    print(result, end = \"\\n\\n\")"
   ]
  },
  {
   "cell_type": "markdown",
   "metadata": {},
   "source": [
    "## 2 pha"
   ]
  },
  {
   "cell_type": "markdown",
   "metadata": {},
   "source": [
    "- input_consts  \n",
    "-1,-3,-1,,max  \n",
    "2,-5,1,<=,-5  \n",
    "2,-1,2,<=,4  \n",
    "- input_vars  \n",
    ">=,>=,>="
   ]
  },
  {
   "cell_type": "code",
   "execution_count": 122,
   "metadata": {},
   "outputs": [
    {
     "data": {
      "text/plain": [
       "array([[-1., -3., -1.,  0.,  0.,  0.],\n",
       "       [-2.,  5., -1., -1., -0., -5.],\n",
       "       [-2.,  1., -2., -0., -1.,  4.]])"
      ]
     },
     "execution_count": 122,
     "metadata": {},
     "output_type": "execute_result"
    }
   ],
   "source": [
    "C =  pd.read_csv(\"input_consts2.csv\", header=None)\n",
    "D = pd.read_csv('input_vars2.csv', header=None)\n",
    "new_arr, tab_arr, rsby, optimize_direction = processing_input(C, D)\n",
    "tab_arr"
   ]
  },
  {
   "cell_type": "markdown",
   "metadata": {},
   "source": [
    "Kiểm tra xem có tồn tại bi<0 ở tab_arr không. Nếu có thì mới áp dụng thuật toán 2 pha"
   ]
  },
  {
   "cell_type": "code",
   "execution_count": null,
   "metadata": {},
   "outputs": [
    {
     "data": {
      "text/plain": [
       "True"
      ]
     },
     "execution_count": 96,
     "metadata": {},
     "output_type": "execute_result"
    }
   ],
   "source": [
    "np.any(tab_arr[1:,-1]<0)"
   ]
  },
  {
   "cell_type": "markdown",
   "metadata": {},
   "source": [
    "### Pha 1 \n",
    "Lập bài toán bổ trợ  \n",
    "- Thêm biến x0 vào ràng buộc đẳng thức, bất đẳng thức. Lập từ vựng xuất phát C = x0  \n",
    "- Đưa về dạng ma trận để có thể giải, lưu vào biến tab_C (np.array)"
   ]
  },
  {
   "cell_type": "code",
   "execution_count": null,
   "metadata": {},
   "outputs": [
    {
     "name": "stdout",
     "output_type": "stream",
     "text": [
      "[[ 1.  0.  0.  0.  0.  0.  0.  0.]\n",
      " [ 1. -2.  5. -1.  1. -1. -0. -5.]\n",
      " [ 1. -2.  1. -2.  2. -0. -1.  4.]]\n"
     ]
    }
   ],
   "source": [
    "if np.any(tab_arr[1:,-1]<0):\n",
    "    tab_C = tab_arr.copy()\n",
    "    tab_C = np.insert(tab_C, 0, np.ones(tab_C.shape[0]), axis = 1)\n",
    "    tab_C[0, 1:] = 0\n",
    "    print(tab_C)\n"
   ]
  },
  {
   "cell_type": "markdown",
   "metadata": {},
   "source": [
    "Xoay từ vựng đầu tiên  \n",
    "- Chọn biến vào: x0\n",
    "- Chọn biến ra: biến ở dòng ứng với bi âm nhất, ưu tiên dòng có hệ số nhỏ nhất  \n",
    "- Xoay từ vựng như đơn hình "
   ]
  },
  {
   "cell_type": "code",
   "execution_count": null,
   "metadata": {},
   "outputs": [],
   "source": [
    "# chọn biến vào\n",
    "j = 0\n",
    "# chọn biến ra, do ở thuật toán 2 pha, luôn tồn tại bi<0 nên luôn tồn tại i\n",
    "bi = tab_C[1:, -1]\n",
    "i = np.where(bi == np.min(bi[bi<0]))[0][0] + 1\n",
    "# xoay từ vựng như đơn hình"
   ]
  },
  {
   "cell_type": "code",
   "execution_count": null,
   "metadata": {},
   "outputs": [
    {
     "data": {
      "text/plain": [
       "array([[ 0.,  2., -5.,  1., -1.,  1.,  0.,  5.],\n",
       "       [-1.,  2., -5.,  1., -1.,  1.,  0.,  5.],\n",
       "       [ 0.,  0., -4., -1.,  1.,  1., -1.,  9.]])"
      ]
     },
     "execution_count": 99,
     "metadata": {},
     "output_type": "execute_result"
    }
   ],
   "source": [
    "df_result = list()\n",
    "df_result.append(tab_C)\n",
    "new_arr = bland_rotate(tab_C,i,j)\n",
    "df_result.append(new_arr)\n",
    "new_arr\n"
   ]
  },
  {
   "cell_type": "markdown",
   "metadata": {},
   "source": [
    "Từ từ vựng thứ 2, áp dụng cách xoay đơn hình --> từ vựng cuối pha 1"
   ]
  },
  {
   "cell_type": "code",
   "execution_count": null,
   "metadata": {},
   "outputs": [],
   "source": []
  },
  {
   "cell_type": "markdown",
   "metadata": {},
   "source": [
    "Từ vựng cuối pha 1 (từ vựng tối ưu của P1), xét hàm mục tiêu\n",
    "- Nếu hàm mục tiêu chỉ có biến x0 --> chuyển sang pha 2\n",
    "- Nếu hàm mục tiêu gồm biến x0 và những biến khác (hoặc không có x0) --> kết luận bài toán vô nghiệm --> dừng thuật toán. "
   ]
  },
  {
   "cell_type": "code",
   "execution_count": null,
   "metadata": {},
   "outputs": [],
   "source": []
  },
  {
   "cell_type": "markdown",
   "metadata": {},
   "source": [
    "### Pha 2"
   ]
  }
 ],
 "metadata": {
  "kernelspec": {
   "display_name": "base",
   "language": "python",
   "name": "python3"
  },
  "language_info": {
   "codemirror_mode": {
    "name": "ipython",
    "version": 3
   },
   "file_extension": ".py",
   "mimetype": "text/x-python",
   "name": "python",
   "nbconvert_exporter": "python",
   "pygments_lexer": "ipython3",
   "version": "3.11.7"
  }
 },
 "nbformat": 4,
 "nbformat_minor": 2
}
